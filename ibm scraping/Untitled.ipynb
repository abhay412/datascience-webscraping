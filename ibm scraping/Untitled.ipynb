{
 "cells": [
  {
   "cell_type": "markdown",
   "metadata": {},
   "source": [
    "# Movies dataset prepared by Abhay Partap Singh Rana  \n",
    "## movie from 2001 to 2010\n",
    "## srap  more than 4500 movies list\n"
   ]
  },
  {
   "cell_type": "code",
   "execution_count": 1,
   "metadata": {},
   "outputs": [],
   "source": [
    "from selenium import webdriver\n",
    "from selenium.webdriver.common.keys import Keys\n",
    "import bs4\n",
    "import time"
   ]
  },
  {
   "cell_type": "code",
   "execution_count": 16,
   "metadata": {},
   "outputs": [],
   "source": [
    "l=[]\n",
    "driver = webdriver.Chrome(executable_path=\"C:\\\\Users\\\\guddu\\\\Desktop\\\\chromedriver.exe\")\n",
    "driver.get('https://www.imdb.com/search/title/?title_type=feature&year=2001-01-01,2010-12-31&sort=release_date,asc&start=1&ref_=adv_nxt')\n"
   ]
  },
  {
   "cell_type": "markdown",
   "metadata": {},
   "source": [
    "# scrap names of movie"
   ]
  },
  {
   "cell_type": "code",
   "execution_count": 13,
   "metadata": {},
   "outputs": [],
   "source": [
    "ab=[]\n",
    "pa=[1,51,101,151,201,251,301,351,401,451,501,551,601,651,701,751,801,851,901,951,1001,1051,1101,1151,1201,1251,1301,1351,1401,1451,1501,1551,1601,1651,1701,1751,1801,1851,1901,1951,2001,2051,2101,2151,2201,2251,2301,2351,2401,2451,2501,2551,2601,2651,2701,2751,2801,2851,2901,2951,3001,3051,3101,3151,3201,3251,3301,3351,3401,3451,3501,3551,3601,3651,3701,3751,3801,3851,3901,3951,4001,4051,4101,4151,4201,4251,4301,4351,4401,4451,4501,4551,4601,4651,4701,4751,4801,4851,4901,4951,5001,5051,5101,5151,5201,5251,5301,5351,5401,5451,5501,5551,5601,5651,5701,5751,5801,5851,5901,5951]\n",
    "for i in pa:\n",
    "    driver.get(f'https://www.imdb.com/search/title/?title_type=feature&year=2001-01-01,2010-12-31&sort=release_date,asc&start={i}&ref_=adv_nxt')\n",
    "    for j in range(51):\n",
    "        name=driver.find_elements_by_xpath(f'//*[@id=\"main\"]/div/div[3]/div/div[{j}]/div[3]/h3/a')\n",
    "        for names in name:\n",
    "            ab.append(names.text)\n",
    "               "
   ]
  },
  {
   "cell_type": "markdown",
   "metadata": {},
   "source": [
    "# movie_time and year"
   ]
  },
  {
   "cell_type": "code",
   "execution_count": 18,
   "metadata": {},
   "outputs": [],
   "source": [
    "time1=[]\n",
    "year1=[]\n",
    "pa=[1,51,101,151,201,251,301,351,401,451,501,551,601,651,701,751,801,851,901,951,1001,1051,1101,1151,1201,1251,1301,1351,1401,1451,1501,1551,1601,1651,1701,1751,1801,1851,1901,1951,2001,2051,2101,2151,2201,2251,2301,2351,2401,2451,2501,2551,2601,2651,2701,2751,2801,2851,2901,2951,3001,3051,3101,3151,3201,3251,3301,3351,3401,3451,3501,3551,3601,3651,3701,3751,3801,3851,3901,3951,4101,4151,4201,4251,4301,4351,4401,4451,4501,4551,4601,4651,4701,4751,4801,4851,4901,4951,5001,5051,5101,5151,5201,5251,5301,5351,5401,5451,5501,5551,5601,5651,5701,5751,5801,5851,5901,5951]\n",
    "\n",
    "for i in pa:\n",
    "    driver.get(f'https://www.imdb.com/search/title/?title_type=feature&year=2001-01-01,2010-12-31&sort=release_date,asc&start={i}&ref_=adv_nxt')\n",
    "    d1=driver.page_source\n",
    "    soup=bs4.BeautifulSoup(d1,'html.parser')\n",
    "    time=soup.find_all('span',{'class':'runtime'})\n",
    "    year=soup.find_all('span',{'class':'lister-item-year text-muted unbold'})\n",
    "    for t in time:\n",
    "        time1.append(t.text)\n",
    "    for tt in year:\n",
    "        year1.append(tt.text)\n"
   ]
  },
  {
   "cell_type": "code",
   "execution_count": 19,
   "metadata": {},
   "outputs": [
    {
     "data": {
      "text/plain": [
       "5900"
      ]
     },
     "execution_count": 19,
     "metadata": {},
     "output_type": "execute_result"
    }
   ],
   "source": [
    "year1.__len__()"
   ]
  },
  {
   "cell_type": "code",
   "execution_count": 20,
   "metadata": {},
   "outputs": [
    {
     "data": {
      "text/plain": [
       "4432"
      ]
     },
     "execution_count": 20,
     "metadata": {},
     "output_type": "execute_result"
    }
   ],
   "source": [
    "time1.__len__()"
   ]
  },
  {
   "cell_type": "code",
   "execution_count": 32,
   "metadata": {},
   "outputs": [],
   "source": [
    "d=pd.read_csv('names.csv')"
   ]
  },
  {
   "cell_type": "code",
   "execution_count": 33,
   "metadata": {},
   "outputs": [
    {
     "data": {
      "text/html": [
       "<div>\n",
       "<style scoped>\n",
       "    .dataframe tbody tr th:only-of-type {\n",
       "        vertical-align: middle;\n",
       "    }\n",
       "\n",
       "    .dataframe tbody tr th {\n",
       "        vertical-align: top;\n",
       "    }\n",
       "\n",
       "    .dataframe thead th {\n",
       "        text-align: right;\n",
       "    }\n",
       "</style>\n",
       "<table border=\"1\" class=\"dataframe\">\n",
       "  <thead>\n",
       "    <tr style=\"text-align: right;\">\n",
       "      <th></th>\n",
       "      <th>Unnamed: 0</th>\n",
       "      <th>movie_name</th>\n",
       "    </tr>\n",
       "  </thead>\n",
       "  <tbody>\n",
       "    <tr>\n",
       "      <td>0</td>\n",
       "      <td>0</td>\n",
       "      <td>Hemingway, the Hunter of Death</td>\n",
       "    </tr>\n",
       "    <tr>\n",
       "      <td>1</td>\n",
       "      <td>1</td>\n",
       "      <td>Ethirum Puthirum</td>\n",
       "    </tr>\n",
       "    <tr>\n",
       "      <td>2</td>\n",
       "      <td>2</td>\n",
       "      <td>Firestorm Rising</td>\n",
       "    </tr>\n",
       "    <tr>\n",
       "      <td>3</td>\n",
       "      <td>3</td>\n",
       "      <td>Escaping Jersey</td>\n",
       "    </tr>\n",
       "    <tr>\n",
       "      <td>4</td>\n",
       "      <td>4</td>\n",
       "      <td>Painting Faces</td>\n",
       "    </tr>\n",
       "  </tbody>\n",
       "</table>\n",
       "</div>"
      ],
      "text/plain": [
       "   Unnamed: 0                      movie_name\n",
       "0           0  Hemingway, the Hunter of Death\n",
       "1           1                Ethirum Puthirum\n",
       "2           2                Firestorm Rising\n",
       "3           3                 Escaping Jersey\n",
       "4           4                  Painting Faces"
      ]
     },
     "execution_count": 33,
     "metadata": {},
     "output_type": "execute_result"
    }
   ],
   "source": [
    "d.head()"
   ]
  },
  {
   "cell_type": "code",
   "execution_count": 39,
   "metadata": {},
   "outputs": [
    {
     "name": "stdout",
     "output_type": "stream",
     "text": [
      "error occured\n"
     ]
    }
   ],
   "source": [
    "time=[]\n",
    "year=[]\n",
    "# soup=bs4.BeautifulSoup(data,'html.parser')\n",
    "# time=soup.find_all('span',{'class':'runtime'})\n",
    "try:\n",
    "    pa=[1,51,101,151,201,251,301,351,401,451,501,551,601,651,701,751,801,851,901,951,1001,1051,1101,1151,1201,1251,1301,1351,1401,1451,1501,1551,1601,1651,1701,1751,1801,1851,1901,1951,2001,2051,2101,2151,2201,2251,2301,2351,2401,2451,2501,2551,2601,2651,2701,2751,2801,2851,2901,2951,3001,3051,3101,3151,3201,3251,3301,3351,3401,3451,3501,3551,3601,3651,3701,3751,3801,3851,3901,3951,4101,4151,4201,4251,4301,4351,4401,4451,4501,4551,4601,4651,4701,4751,4801,4851,4901,4951,5001,5051,5101,5151,5201,5251,5301,5351,5401,5451,5501,5551,5601,5651,5701,5751,5801,5851,5901,5951]\n",
    "\n",
    "    for i in pa:\n",
    "        driver.get(f'https://www.imdb.com/search/title/?title_type=feature&year=2001-01-01,2010-12-31&sort=release_date,asc&start={i}&ref_=adv_nxt')\n",
    "\n",
    "        d1=driver.page_source\n",
    "        soup=bs4.BeautifulSoup(d1,'html.parser')\n",
    "        time=soup.find_all('span',{'class':'runtime'})\n",
    "        year=soup.find_all('span',{'class':'lister-item-year text-muted unbold'})\n",
    "        for t in time:\n",
    "            time.append(t.text)\n",
    "except:\n",
    "    print('error occured')\n",
    "            "
   ]
  },
  {
   "cell_type": "code",
   "execution_count": 17,
   "metadata": {},
   "outputs": [],
   "source": [
    "l=[]\n",
    "soup=bs4.BeautifulSoup(data,'html.parser')\n",
    "time=soup.find_all('span',{'class':'runtime'})\n",
    "pa=[1,51,101,151,201,251,301,351,401,451,501,551,601,651,701,751,801,851,901,951,1001,1051,1101,1151,1201,1251,1301,1351,1401,1451,1501,1551,1601,1651,1701,1751,1801,1851,1901,1951,2001,2051,2101,2151,2201,2251,2301,2351,2401,2451,2501,2551,2601,2651,2701,2751,2801,2851,2901,2951,3001,3051,3101,3151,3201,3251,3301,3351,3401,3451,3501,3551,3601,3651,3701,3751,3801,3851,3901,3951,4001,4051,4101]\n",
    "\n",
    "for i in pa:\n",
    "    url=f'https://www.imdb.com/search/title/?title_type=feature&year=2001-01-01,2001-12-31&start={i}&ref_=adv_nxt'\n",
    "    d1=driver.page_source\n",
    "    soup=bs4.BeautifulSoup(d1,'html.parser')\n",
    "    time=soup.find_all('span',{'class':'runtime'})\n",
    "    for t in time:\n",
    "        l.append(t.text)\n",
    "\n",
    "    "
   ]
  },
  {
   "cell_type": "code",
   "execution_count": 28,
   "metadata": {},
   "outputs": [],
   "source": [
    "import pandas as pd\n",
    "data=pd.DataFrame({\n",
    "                   'time':time1\n",
    "                   \n",
    "    \n",
    "}\n",
    "\n",
    ")"
   ]
  },
  {
   "cell_type": "code",
   "execution_count": 29,
   "metadata": {},
   "outputs": [],
   "source": [
    "data.to_csv('time.csv')"
   ]
  },
  {
   "cell_type": "code",
   "execution_count": 30,
   "metadata": {},
   "outputs": [
    {
     "data": {
      "text/html": [
       "<div>\n",
       "<style scoped>\n",
       "    .dataframe tbody tr th:only-of-type {\n",
       "        vertical-align: middle;\n",
       "    }\n",
       "\n",
       "    .dataframe tbody tr th {\n",
       "        vertical-align: top;\n",
       "    }\n",
       "\n",
       "    .dataframe thead th {\n",
       "        text-align: right;\n",
       "    }\n",
       "</style>\n",
       "<table border=\"1\" class=\"dataframe\">\n",
       "  <thead>\n",
       "    <tr style=\"text-align: right;\">\n",
       "      <th></th>\n",
       "      <th>time</th>\n",
       "    </tr>\n",
       "  </thead>\n",
       "  <tbody>\n",
       "    <tr>\n",
       "      <td>0</td>\n",
       "      <td>60 min</td>\n",
       "    </tr>\n",
       "    <tr>\n",
       "      <td>1</td>\n",
       "      <td>93 min</td>\n",
       "    </tr>\n",
       "    <tr>\n",
       "      <td>2</td>\n",
       "      <td>45 min</td>\n",
       "    </tr>\n",
       "    <tr>\n",
       "      <td>3</td>\n",
       "      <td>91 min</td>\n",
       "    </tr>\n",
       "    <tr>\n",
       "      <td>4</td>\n",
       "      <td>87 min</td>\n",
       "    </tr>\n",
       "    <tr>\n",
       "      <td>...</td>\n",
       "      <td>...</td>\n",
       "    </tr>\n",
       "    <tr>\n",
       "      <td>4427</td>\n",
       "      <td>71 min</td>\n",
       "    </tr>\n",
       "    <tr>\n",
       "      <td>4428</td>\n",
       "      <td>96 min</td>\n",
       "    </tr>\n",
       "    <tr>\n",
       "      <td>4429</td>\n",
       "      <td>99 min</td>\n",
       "    </tr>\n",
       "    <tr>\n",
       "      <td>4430</td>\n",
       "      <td>130 min</td>\n",
       "    </tr>\n",
       "    <tr>\n",
       "      <td>4431</td>\n",
       "      <td>104 min</td>\n",
       "    </tr>\n",
       "  </tbody>\n",
       "</table>\n",
       "<p>4432 rows × 1 columns</p>\n",
       "</div>"
      ],
      "text/plain": [
       "         time\n",
       "0      60 min\n",
       "1      93 min\n",
       "2      45 min\n",
       "3      91 min\n",
       "4      87 min\n",
       "...       ...\n",
       "4427   71 min\n",
       "4428   96 min\n",
       "4429   99 min\n",
       "4430  130 min\n",
       "4431  104 min\n",
       "\n",
       "[4432 rows x 1 columns]"
      ]
     },
     "execution_count": 30,
     "metadata": {},
     "output_type": "execute_result"
    }
   ],
   "source": [
    "data"
   ]
  },
  {
   "cell_type": "code",
   "execution_count": null,
   "metadata": {},
   "outputs": [],
   "source": []
  },
  {
   "cell_type": "code",
   "execution_count": null,
   "metadata": {},
   "outputs": [],
   "source": []
  }
 ],
 "metadata": {
  "kernelspec": {
   "display_name": "Python 3",
   "language": "python",
   "name": "python3"
  },
  "language_info": {
   "codemirror_mode": {
    "name": "ipython",
    "version": 3
   },
   "file_extension": ".py",
   "mimetype": "text/x-python",
   "name": "python",
   "nbconvert_exporter": "python",
   "pygments_lexer": "ipython3",
   "version": "3.7.4"
  }
 },
 "nbformat": 4,
 "nbformat_minor": 2
}
