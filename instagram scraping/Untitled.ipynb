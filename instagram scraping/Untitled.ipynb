{
 "cells": [
  {
   "cell_type": "markdown",
   "metadata": {},
   "source": [
    "# scraping of instagram profile pic based on the story\n",
    "## please note that in this file i ha"
   ]
  },
  {
   "cell_type": "code",
   "execution_count": 5,
   "metadata": {},
   "outputs": [],
   "source": [
    "import selenium\n",
    "from selenium import webdriver\n",
    "from selenium.webdriver.common.keys import Keys\n",
    "#from selenium.webdriver.support.wait import WebDriverWait\n",
    "import time\n",
    "import bs4"
   ]
  },
  {
   "cell_type": "code",
   "execution_count": 2,
   "metadata": {},
   "outputs": [],
   "source": [
    "driver = webdriver.Chrome(executable_path=\"C:\\\\Users\\\\guddu\\\\Desktop\\\\chromedriver.exe\")\n",
    "driver.get(\"https://www.instagram.com/\")\n",
    "\n",
    "time.sleep(2)\n",
    "\n",
    "# loginbtn = driver.find_element_by_xpath(\"/html/body/div[1]/section/main/article/div[2]/div[2]/p/a\").click()\n",
    "# time.sleep(3)\n",
    "username = driver.find_element_by_xpath('//*[@id=\"react-root\"]/section/main/article/div[2]/div[1]/div/form/div[2]/div/label/input')\n",
    "password = driver.find_element_by_xpath('//*[@id=\"react-root\"]/section/main/article/div[2]/div[1]/div/form/div[3]/div/label/input')\n",
    "\n",
    "username.send_keys(\"admin\")\n",
    "password.send_keys(\"admin\")\n",
    "password.send_keys(Keys.RETURN)\n",
    "\n",
    "time.sleep(2)\n",
    "notnowbtn = driver.find_element_by_xpath('//*[@id=\"react-root\"]/section/main/article/div[2]/div[1]/div/form/div[3]/div/label/input').click()\n",
    "time.sleep(10)\n",
    "store = driver.page_source\n",
    "soup = bs4.BeautifulSoup(store, 'html.parser')\n",
    "images = soup.findAll('img', attrs={'class':'_6q-tv'})\n",
    "links=[]\n",
    "for i in images:\n",
    "    links.append(i['src'])\n",
    "#print(links)"
   ]
  },
  {
   "cell_type": "code",
   "execution_count": 3,
   "metadata": {},
   "outputs": [],
   "source": [
    "import os\n",
    "import requests as rq"
   ]
  },
  {
   "cell_type": "code",
   "execution_count": 4,
   "metadata": {},
   "outputs": [],
   "source": [
    "for i in range(0, len(links)):\n",
    "    r = rq.get(links[i])\n",
    "    filename = str(i + 1) + \".jpg\"\n",
    "    with open(os.path.join('download', filename), 'wb+') as f:\n",
    "        f.write(r.content)\n",
    "#for index, link in enumerate(links):\n",
    "    #if  \"static\" in link:\n",
    "        #continue"
   ]
  },
  {
   "cell_type": "code",
   "execution_count": null,
   "metadata": {},
   "outputs": [],
   "source": []
  }
 ],
 "metadata": {
  "kernelspec": {
   "display_name": "Python 3",
   "language": "python",
   "name": "python3"
  },
  "language_info": {
   "codemirror_mode": {
    "name": "ipython",
    "version": 3
   },
   "file_extension": ".py",
   "mimetype": "text/x-python",
   "name": "python",
   "nbconvert_exporter": "python",
   "pygments_lexer": "ipython3",
   "version": "3.7.4"
  }
 },
 "nbformat": 4,
 "nbformat_minor": 2
}
